{
  "cells": [
    {
      "cell_type": "markdown",
      "metadata": {
        "id": "TXk-UsW34dBh"
      },
      "source": [
        "# Assignment: Image Classification"
      ]
    },
    {
      "cell_type": "markdown",
      "metadata": {
        "id": "7lAsbCwVt_nv"
      },
      "source": [
        "# Imports"
      ]
    },
    {
      "cell_type": "code",
      "execution_count": 2,
      "metadata": {
        "collapsed": true,
        "id": "llpSIgPSt1Zw"
      },
      "outputs": [],
      "source": [
        "# !pip uninstall tf-keras\n",
        "# !pip install tensorflow==2.16.1"
      ]
    },
    {
      "cell_type": "code",
      "execution_count": 3,
      "metadata": {
        "colab": {
          "base_uri": "https://localhost:8080/"
        },
        "id": "nUIFzYlvt77h",
        "outputId": "695e7db9-8caa-46cd-ebcd-7b3bb6edb587"
      },
      "outputs": [
        {
          "output_type": "stream",
          "name": "stdout",
          "text": [
            "Keras Current Version: 3.8.0 Tensorflow Current Version: 2.18.0\n"
          ]
        }
      ],
      "source": [
        "import keras\n",
        "import tensorflow as tf\n",
        "print(\"Keras Current Version:\", keras.__version__, \"Tensorflow Current Version:\", tf.__version__)"
      ]
    },
    {
      "cell_type": "code",
      "execution_count": 4,
      "metadata": {
        "id": "UM-ymyTktjbp"
      },
      "outputs": [],
      "source": [
        "import numpy as np\n",
        "import matplotlib.pyplot as plt\n",
        "import random\n",
        "import tensorflow as tf\n",
        "from tensorflow.keras import layers, datasets, metrics\n",
        "\n",
        "from tensorflow.keras.models import Sequential, load_model\n",
        "from tensorflow.keras.preprocessing import image\n",
        "from tensorflow.keras.callbacks import ModelCheckpoint, EarlyStopping\n",
        "\n",
        "from tensorflow.keras.layers import Dense, Conv2D, Flatten, MaxPooling2D, Dropout, BatchNormalization, Input\n",
        "from tensorflow.keras.datasets import cifar10\n",
        "\n",
        "random.seed(32)\n",
        "np.random.seed(32)\n",
        "tf.random.set_seed(32)\n"
      ]
    },
    {
      "cell_type": "markdown",
      "metadata": {
        "id": "wJ9m4Ay5uLJs"
      },
      "source": [
        "# Data Set"
      ]
    },
    {
      "cell_type": "code",
      "execution_count": 5,
      "metadata": {
        "id": "zzHSkwWgZhxu",
        "colab": {
          "base_uri": "https://localhost:8080/"
        },
        "outputId": "b3b6f54b-1a28-46d6-da6a-60b917fd30a0"
      },
      "outputs": [
        {
          "output_type": "stream",
          "name": "stdout",
          "text": [
            "Downloading data from https://www.cs.toronto.edu/~kriz/cifar-10-python.tar.gz\n",
            "\u001b[1m170498071/170498071\u001b[0m \u001b[32m━━━━━━━━━━━━━━━━━━━━\u001b[0m\u001b[37m\u001b[0m \u001b[1m4s\u001b[0m 0us/step\n"
          ]
        }
      ],
      "source": [
        "(X_train, y_train), (X_val, y_val) = cifar10.load_data()"
      ]
    },
    {
      "cell_type": "code",
      "execution_count": null,
      "metadata": {
        "colab": {
          "base_uri": "https://localhost:8080/",
          "height": 430
        },
        "id": "I5hYNRQhubcV",
        "outputId": "e44a3c4a-6d25-4dae-ee31-cc7719a161a9"
      },
      "outputs": [
        {
          "output_type": "display_data",
          "data": {
            "text/plain": [
              "<Figure size 640x480 with 1 Axes>"
            ],
            "image/png": "[encoded data removed]"
          },
          "metadata": {}
        }
      ],
      "source": [
        "random = np.random.randint(X_train.shape[0])\n",
        "plt.imshow(X_train[random])\n",
        "plt.show()\n",
        "\n"
      ]
    },
    {
      "cell_type": "markdown",
      "metadata": {
        "id": "fgk-gN3PvNmi"
      },
      "source": [
        "# Data Preparation"
      ]
    },
    {
      "cell_type": "code",
      "execution_count": null,
      "metadata": {
        "id": "vrU1vDnWvTkQ"
      },
      "outputs": [],
      "source": [
        "X_train = X_train.astype(\"float32\") / 255.0\n",
        "X_val  = X_val.astype(\"float32\")  / 255.0"
      ]
    },
    {
      "cell_type": "code",
      "execution_count": null,
      "metadata": {
        "id": "a71F-j-DTBdq"
      },
      "outputs": [],
      "source": [
        "def prepare_datasets(X_train, X_val, y_train, y_val, batch_size=None):\n",
        "    if batch_size is None:\n",
        "        batch_size = len(X_train)\n",
        "    train_dataset = tf.data.Dataset.from_tensor_slices((X_train, y_train))\n",
        "    train_dataset = train_dataset.shuffle(buffer_size=len(X_train)).batch(batch_size)\n",
        "    val_dataset = tf.data.Dataset.from_tensor_slices((X_val, y_val))\n",
        "    val_dataset = val_dataset.batch(batch_size)\n",
        "    return train_dataset, val_dataset"
      ]
    },
    {
      "cell_type": "code",
      "execution_count": null,
      "metadata": {
        "id": "aAJklwogT-Ks"
      },
      "outputs": [],
      "source": [
        "train_ds, val_ds = prepare_datasets(X_train, X_val, y_train, y_val, batch_size=32)"
      ]
    },
    {
      "cell_type": "markdown",
      "metadata": {
        "id": "jO-0cLDtvuJy"
      },
      "source": [
        "# Model"
      ]
    },
    {
      "cell_type": "code",
      "execution_count": null,
      "metadata": {
        "colab": {
          "base_uri": "https://localhost:8080/"
        },
        "id": "cHR9LbYcOgn_",
        "outputId": "c9e9610f-ba68-4141-98a4-ef6233fb2bfd"
      },
      "outputs": [
        {
          "output_type": "execute_result",
          "data": {
            "text/plain": [
              "(50000, 32, 32, 3)"
            ]
          },
          "metadata": {},
          "execution_count": 8
        }
      ],
      "source": [
        "X_train.shape"
      ]
    },
    {
      "cell_type": "code",
      "source": [
        "y_train.shape"
      ],
      "metadata": {
        "colab": {
          "base_uri": "https://localhost:8080/"
        },
        "id": "j6FM9sbq5jVa",
        "outputId": "2677e05d-4ffc-4ee2-93c0-5f37f64d63dc"
      },
      "execution_count": null,
      "outputs": [
        {
          "output_type": "execute_result",
          "data": {
            "text/plain": [
              "(50000, 1)"
            ]
          },
          "metadata": {},
          "execution_count": 10
        }
      ]
    },
    {
      "cell_type": "code",
      "execution_count": null,
      "metadata": {
        "id": "NsI2TcaPbWeP"
      },
      "outputs": [],
      "source": [
        "model = Sequential([\n",
        "    Input(shape=(32,32,3),),\n",
        "    layers.Conv2D(64, (3,3), activation=\"relu\"), # 30\n",
        "    layers.Conv2D(64, (3,3), activation=\"relu\"), # 28\n",
        "    layers.MaxPooling2D(2,2), # 14\n",
        "    layers.Conv2D(128, (3,3), activation=\"relu\"), # 12\n",
        "    layers.Conv2D(128, (3,3), activation=\"relu\"), # 10\n",
        "    layers.MaxPooling2D(2,2), # 5\n",
        "    layers.Conv2D(256, (3,3), activation= \"relu\"), # 3\n",
        "    layers.Conv2D(256, (3,3), activation=\"relu\"), # 1\n",
        "    layers.Flatten(),\n",
        "    layers.Dense(128, activation=\"relu\"),\n",
        "    layers.Dense(10, activation=\"softmax\")\n",
        "\n",
        "])"
      ]
    },
    {
      "cell_type": "code",
      "execution_count": null,
      "metadata": {
        "id": "aYg-o5wNayKd"
      },
      "outputs": [],
      "source": [
        "model.compile(\n",
        "    optimizer='adam',\n",
        "    loss='sparse_categorical_crossentropy',\n",
        "    metrics=[\n",
        "        metrics.SparseCategoricalAccuracy(name=\"sparse_categorical_accuracy\"),\n",
        "        metrics.AUC(name='auc', multi_label=True)\n",
        "    ]\n",
        ")\n"
      ]
    },
    {
      "cell_type": "code",
      "execution_count": null,
      "metadata": {
        "id": "Pw5sFUvoxqDH"
      },
      "outputs": [],
      "source": [
        "early_stopping = EarlyStopping(\n",
        "    monitor=\"val_loss\",\n",
        "    patience = 5,\n",
        "    verbose = 1\n",
        ")"
      ]
    },
    {
      "cell_type": "code",
      "execution_count": null,
      "metadata": {
        "id": "cArcA8pKQ9lc"
      },
      "outputs": [],
      "source": [
        "model_checkpoints = ModelCheckpoint(\n",
        "    filepath = \"cifar10_model.keras\",\n",
        "    monitor= \"val_loss\",\n",
        "    save_best_only = True,\n",
        "    save_weights_only = False,\n",
        "    verbose = 1\n",
        ")"
      ]
    },
    {
      "cell_type": "code",
      "execution_count": null,
      "metadata": {
        "colab": {
          "base_uri": "https://localhost:8080/"
        },
        "id": "OmifmCT3xxJ_",
        "outputId": "ea565a34-dd1b-485e-c134-368586b9f1ea"
      },
      "outputs": [
        {
          "output_type": "stream",
          "name": "stdout",
          "text": [
            "Epoch 1/20\n",
            "\u001b[1m1563/1563\u001b[0m \u001b[32m━━━━━━━━━━━━━━━━━━━━\u001b[0m\u001b[37m\u001b[0m \u001b[1m0s\u001b[0m 9ms/step - auc: 0.5308 - loss: 1.8421 - sparse_categorical_accuracy: 0.3011\n",
            "Epoch 1: val_loss improved from inf to 1.22176, saving model to cifar10_model.keras\n",
            "\u001b[1m1563/1563\u001b[0m \u001b[32m━━━━━━━━━━━━━━━━━━━━\u001b[0m\u001b[37m\u001b[0m \u001b[1m25s\u001b[0m 11ms/step - auc: 0.5308 - loss: 1.8419 - sparse_categorical_accuracy: 0.3012 - val_auc: 0.4877 - val_loss: 1.2218 - val_sparse_categorical_accuracy: 0.5617\n",
            "Epoch 2/20\n",
            "\u001b[1m1557/1563\u001b[0m \u001b[32m━━━━━━━━━━━━━━━━━━━\u001b[0m\u001b[37m━\u001b[0m \u001b[1m0s\u001b[0m 7ms/step - auc: 0.5020 - loss: 1.1248 - sparse_categorical_accuracy: 0.5988\n",
            "Epoch 2: val_loss improved from 1.22176 to 1.01972, saving model to cifar10_model.keras\n",
            "\u001b[1m1563/1563\u001b[0m \u001b[32m━━━━━━━━━━━━━━━━━━━━\u001b[0m\u001b[37m\u001b[0m \u001b[1m13s\u001b[0m 8ms/step - auc: 0.5020 - loss: 1.1245 - sparse_categorical_accuracy: 0.5989 - val_auc: 0.5317 - val_loss: 1.0197 - val_sparse_categorical_accuracy: 0.6383\n",
            "Epoch 3/20\n",
            "\u001b[1m1561/1563\u001b[0m \u001b[32m━━━━━━━━━━━━━━━━━━━\u001b[0m\u001b[37m━\u001b[0m \u001b[1m0s\u001b[0m 7ms/step - auc: 0.4955 - loss: 0.8792 - sparse_categorical_accuracy: 0.6911\n",
            "Epoch 3: val_loss improved from 1.01972 to 0.83260, saving model to cifar10_model.keras\n",
            "\u001b[1m1563/1563\u001b[0m \u001b[32m━━━━━━━━━━━━━━━━━━━━\u001b[0m\u001b[37m\u001b[0m \u001b[1m12s\u001b[0m 8ms/step - auc: 0.4955 - loss: 0.8791 - sparse_categorical_accuracy: 0.6912 - val_auc: 0.5306 - val_loss: 0.8326 - val_sparse_categorical_accuracy: 0.7148\n",
            "Epoch 4/20\n",
            "\u001b[1m1562/1563\u001b[0m \u001b[32m━━━━━━━━━━━━━━━━━━━\u001b[0m\u001b[37m━\u001b[0m \u001b[1m0s\u001b[0m 7ms/step - auc: 0.4990 - loss: 0.7290 - sparse_categorical_accuracy: 0.7432\n",
            "Epoch 4: val_loss improved from 0.83260 to 0.77433, saving model to cifar10_model.keras\n",
            "\u001b[1m1563/1563\u001b[0m \u001b[32m━━━━━━━━━━━━━━━━━━━━\u001b[0m\u001b[37m\u001b[0m \u001b[1m12s\u001b[0m 8ms/step - auc: 0.4990 - loss: 0.7290 - sparse_categorical_accuracy: 0.7432 - val_auc: 0.5146 - val_loss: 0.7743 - val_sparse_categorical_accuracy: 0.7366\n",
            "Epoch 5/20\n",
            "\u001b[1m1560/1563\u001b[0m \u001b[32m━━━━━━━━━━━━━━━━━━━\u001b[0m\u001b[37m━\u001b[0m \u001b[1m0s\u001b[0m 7ms/step - auc: 0.5022 - loss: 0.6099 - sparse_categorical_accuracy: 0.7891\n",
            "Epoch 5: val_loss improved from 0.77433 to 0.76230, saving model to cifar10_model.keras\n",
            "\u001b[1m1563/1563\u001b[0m \u001b[32m━━━━━━━━━━━━━━━━━━━━\u001b[0m\u001b[37m\u001b[0m \u001b[1m12s\u001b[0m 8ms/step - auc: 0.5022 - loss: 0.6100 - sparse_categorical_accuracy: 0.7891 - val_auc: 0.5041 - val_loss: 0.7623 - val_sparse_categorical_accuracy: 0.7439\n",
            "Epoch 6/20\n",
            "\u001b[1m1556/1563\u001b[0m \u001b[32m━━━━━━━━━━━━━━━━━━━\u001b[0m\u001b[37m━\u001b[0m \u001b[1m0s\u001b[0m 7ms/step - auc: 0.5060 - loss: 0.5251 - sparse_categorical_accuracy: 0.8157\n",
            "Epoch 6: val_loss did not improve from 0.76230\n",
            "\u001b[1m1563/1563\u001b[0m \u001b[32m━━━━━━━━━━━━━━━━━━━━\u001b[0m\u001b[37m\u001b[0m \u001b[1m20s\u001b[0m 8ms/step - auc: 0.5060 - loss: 0.5251 - sparse_categorical_accuracy: 0.8157 - val_auc: 0.5029 - val_loss: 0.8291 - val_sparse_categorical_accuracy: 0.7281\n",
            "Epoch 7/20\n",
            "\u001b[1m1561/1563\u001b[0m \u001b[32m━━━━━━━━━━━━━━━━━━━\u001b[0m\u001b[37m━\u001b[0m \u001b[1m0s\u001b[0m 7ms/step - auc: 0.5073 - loss: 0.4548 - sparse_categorical_accuracy: 0.8406\n",
            "Epoch 7: val_loss did not improve from 0.76230\n",
            "\u001b[1m1563/1563\u001b[0m \u001b[32m━━━━━━━━━━━━━━━━━━━━\u001b[0m\u001b[37m\u001b[0m \u001b[1m12s\u001b[0m 8ms/step - auc: 0.5073 - loss: 0.4548 - sparse_categorical_accuracy: 0.8406 - val_auc: 0.5148 - val_loss: 0.8007 - val_sparse_categorical_accuracy: 0.7404\n",
            "Epoch 8/20\n",
            "\u001b[1m1556/1563\u001b[0m \u001b[32m━━━━━━━━━━━━━━━━━━━\u001b[0m\u001b[37m━\u001b[0m \u001b[1m0s\u001b[0m 7ms/step - auc: 0.5104 - loss: 0.3847 - sparse_categorical_accuracy: 0.8656\n",
            "Epoch 8: val_loss did not improve from 0.76230\n",
            "\u001b[1m1563/1563\u001b[0m \u001b[32m━━━━━━━━━━━━━━━━━━━━\u001b[0m\u001b[37m\u001b[0m \u001b[1m12s\u001b[0m 8ms/step - auc: 0.5104 - loss: 0.3848 - sparse_categorical_accuracy: 0.8655 - val_auc: 0.5080 - val_loss: 0.8451 - val_sparse_categorical_accuracy: 0.7422\n",
            "Epoch 9/20\n",
            "\u001b[1m1558/1563\u001b[0m \u001b[32m━━━━━━━━━━━━━━━━━━━\u001b[0m\u001b[37m━\u001b[0m \u001b[1m0s\u001b[0m 7ms/step - auc: 0.5088 - loss: 0.3325 - sparse_categorical_accuracy: 0.8827\n",
            "Epoch 9: val_loss did not improve from 0.76230\n",
            "\u001b[1m1563/1563\u001b[0m \u001b[32m━━━━━━━━━━━━━━━━━━━━\u001b[0m\u001b[37m\u001b[0m \u001b[1m12s\u001b[0m 8ms/step - auc: 0.5088 - loss: 0.3326 - sparse_categorical_accuracy: 0.8826 - val_auc: 0.5232 - val_loss: 0.8942 - val_sparse_categorical_accuracy: 0.7361\n",
            "Epoch 10/20\n",
            "\u001b[1m1558/1563\u001b[0m \u001b[32m━━━━━━━━━━━━━━━━━━━\u001b[0m\u001b[37m━\u001b[0m \u001b[1m0s\u001b[0m 7ms/step - auc: 0.5062 - loss: 0.2823 - sparse_categorical_accuracy: 0.8988\n",
            "Epoch 10: val_loss did not improve from 0.76230\n",
            "\u001b[1m1563/1563\u001b[0m \u001b[32m━━━━━━━━━━━━━━━━━━━━\u001b[0m\u001b[37m\u001b[0m \u001b[1m12s\u001b[0m 8ms/step - auc: 0.5062 - loss: 0.2824 - sparse_categorical_accuracy: 0.8988 - val_auc: 0.4994 - val_loss: 0.9574 - val_sparse_categorical_accuracy: 0.7418\n",
            "Epoch 10: early stopping\n"
          ]
        }
      ],
      "source": [
        "history = model.fit(\n",
        "    train_ds,\n",
        "    epochs=20,\n",
        "    validation_data = val_ds,\n",
        "    callbacks = [early_stopping, model_checkpoints]\n",
        ")"
      ]
    },
    {
      "cell_type": "code",
      "source": [
        "val_loss, sparse_categorical_accuracy, auc = model.evaluate(val_ds, verbose=0)\n",
        "print(f\"Loss: {val_loss}\")\n",
        "print(f\"Accuracy: {sparse_categorical_accuracy}\")\n",
        "print(f\"AUC: {auc}\")"
      ],
      "metadata": {
        "colab": {
          "base_uri": "https://localhost:8080/"
        },
        "id": "tDBtDjV1-txs",
        "outputId": "4ee69f1f-18ef-4abd-a901-c38c6c153b6c"
      },
      "execution_count": null,
      "outputs": [
        {
          "output_type": "stream",
          "name": "stdout",
          "text": [
            "Loss: 0.9573818445205688\n",
            "Accuracy: 0.7418000102043152\n",
            "AUC: 0.4993652403354645\n"
          ]
        }
      ]
    },
    {
      "cell_type": "markdown",
      "metadata": {
        "id": "MZh2TlijZxBo"
      },
      "source": [
        "model = Sequential([\n",
        "    Input(shape=(32,32,3),),\n",
        "    layers.Conv2D(32, (3,3), activation=\"relu\"),\n",
        "    layers.MaxPooling2D(2,2),\n",
        "    layers.Conv2D(64, (3,3), activation=\"relu\"),\n",
        "    layers.MaxPooling2D(2,2),\n",
        "    layers.Conv2D(128, (3,3), activation=\"relu\"),\n",
        "    layers.Flatten(),\n",
        "    layers.Dense(128, activation=\"relu\"),\n",
        "    layers.Dense(10, activation=\"softmax\")\n",
        "\n",
        "])   ---> Accuracy: 0.7088000178337097\n",
        "\n",
        "model = Sequential([\n",
        "    Input(shape=(32,32,3),),\n",
        "    layers.Conv2D(32, (3,3), activation=\"relu\"), # 30\n",
        "    layers.Conv2D(32, (3,3), activation=\"relu\"), # 28\n",
        "    layers.MaxPooling2D(2,2), # 14\n",
        "    layers.Conv2D(64, (3,3), activation=\"relu\"), # 12\n",
        "    layers.MaxPooling2D(2,2), # 6\n",
        "    layers.Conv2D(128, (3,3), activation= \"relu\"), # 4\n",
        "    layers.MaxPooling2D(2,2), # 2\n",
        "    layers.Flatten(),\n",
        "    layers.Dense(128, activation=\"relu\"),\n",
        "    layers.Dense(10, activation=\"softmax\")\n",
        "\n",
        "]) ---> Accuracy: 0.7233999967575073\n",
        "\n",
        "model = Sequential([\n",
        "    Input(shape=(32,32,3),),\n",
        "    layers.Conv2D(32, (3,3), activation=\"relu\"),\n",
        "    layers.Conv2D(32, (3,3), activation=\"relu\"),\n",
        "    layers.MaxPooling2D(2,2),\n",
        "    layers.Conv2D(64, (3,3), activation=\"relu\"),\n",
        "    layers.Conv2D(64, (3,3), activation=\"relu\"),\n",
        "    layers.MaxPooling2D(2,2),\n",
        "    layers.Conv2D(128, (3,3), activation= \"relu\"),\n",
        "    layers.Conv2D(128, (3,3), activation=\"relu\"),\n",
        "    layers.Flatten(),\n",
        "    layers.Dense(128, activation=\"relu\"),\n",
        "    layers.Dense(10, activation=\"softmax\")\n",
        "\n",
        "]) ---> Accuracy: 0.7340999841690063\n",
        "\n",
        "model = Sequential([\n",
        "    Input(shape=(32,32,3),),\n",
        "    layers.Conv2D(64, (3,3), activation=\"relu\"), # 30\n",
        "    layers.Conv2D(64, (3,3), activation=\"relu\"), # 28\n",
        "    layers.MaxPooling2D(2,2), # 14\n",
        "    layers.Conv2D(128, (3,3), activation=\"relu\"), # 12\n",
        "    layers.Conv2D(128, (3,3), activation=\"relu\"), # 10\n",
        "    layers.MaxPooling2D(2,2), # 5\n",
        "    layers.Conv2D(256, (3,3), activation= \"relu\"), # 3\n",
        "    layers.Conv2D(256, (3,3), activation=\"relu\"), # 1\n",
        "    layers.Flatten(),\n",
        "    layers.Dense(128, activation=\"relu\"),\n",
        "    layers.Dense(10, activation=\"softmax\")\n",
        "\n",
        "]) ---> Accuracy: 0.7418000102043152\n",
        "\n",
        "\n"
      ]
    },
    {
      "cell_type": "code",
      "execution_count": null,
      "metadata": {
        "id": "5iqaVwfSZtf4"
      },
      "outputs": [],
      "source": []
    }
  ],
  "metadata": {
    "accelerator": "GPU",
    "colab": {
      "gpuType": "T4",
      "machine_shape": "hm",
      "provenance": []
    },
    "kernelspec": {
      "display_name": "Python 3",
      "name": "python3"
    },
    "language_info": {
      "name": "python"
    }
  },
  "nbformat": 4,
  "nbformat_minor": 0
}